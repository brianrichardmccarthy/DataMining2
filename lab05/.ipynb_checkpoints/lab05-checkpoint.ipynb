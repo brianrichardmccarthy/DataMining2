{
 "cells": [
  {
   "cell_type": "markdown",
   "metadata": {},
   "source": [
    "# Load Libraries"
   ]
  },
  {
   "cell_type": "code",
   "execution_count": 1,
   "metadata": {},
   "outputs": [],
   "source": [
    "import pandas as pd\n",
    "import numpy as np\n",
    "import matplotlib.pyplot as plt\n",
    "import seaborn as sns\n",
    "sns.set()\n",
    "sns.set(style=\"whitegrid\")\n",
    "sns.set_context(\"notebook\")"
   ]
  },
  {
   "cell_type": "code",
   "execution_count": 2,
   "metadata": {},
   "outputs": [],
   "source": [
    "from IPython.display import Markdown, display\n",
    "\n",
    "OUT = \"output\"\n",
    "import os\n",
    "os.makedirs(OUT, exist_ok=True)\n",
    "SHOW_PLOTS = True\n",
    "TEST_TRAIN_SEED = 666\n",
    "\n",
    "def summarise_dataframe(df):\n",
    "    display(Markdown(\"\\n**Dataframe (%s x %s)**\\n\" % df.shape), df.head())\n",
    "    display(Markdown(\"\\n**Missing Values**\"), df.isna().sum())\n",
    "    display(Markdown(\"\\n**dtypes**\"), df.dtypes)"
   ]
  },
  {
   "cell_type": "code",
   "execution_count": 3,
   "metadata": {},
   "outputs": [],
   "source": [
    "display_fraction = lambda n,d: (n/d*100, n, d)"
   ]
  },
  {
   "cell_type": "markdown",
   "metadata": {},
   "source": [
    "# Load and Prepare the Data"
   ]
  },
  {
   "cell_type": "code",
   "execution_count": 4,
   "metadata": {},
   "outputs": [
    {
     "data": {
      "text/markdown": [
       "\n",
       "**Dataframe (4000 x 13)**\n"
      ],
      "text/plain": [
       "<IPython.core.display.Markdown object>"
      ]
     },
     "metadata": {},
     "output_type": "display_data"
    },
    {
     "data": {
      "text/html": [
       "<div>\n",
       "<style scoped>\n",
       "    .dataframe tbody tr th:only-of-type {\n",
       "        vertical-align: middle;\n",
       "    }\n",
       "\n",
       "    .dataframe tbody tr th {\n",
       "        vertical-align: top;\n",
       "    }\n",
       "\n",
       "    .dataframe thead th {\n",
       "        text-align: right;\n",
       "    }\n",
       "</style>\n",
       "<table border=\"1\" class=\"dataframe\">\n",
       "  <thead>\n",
       "    <tr style=\"text-align: right;\">\n",
       "      <th></th>\n",
       "      <th>index</th>\n",
       "      <th>Product_Code</th>\n",
       "      <th>Product_Weight</th>\n",
       "      <th>Product_Fat_Content</th>\n",
       "      <th>Product_Salt_Content</th>\n",
       "      <th>Product_Visibility</th>\n",
       "      <th>Product_Type</th>\n",
       "      <th>Product_MRP</th>\n",
       "      <th>Store_Code</th>\n",
       "      <th>Store_Opened</th>\n",
       "      <th>Store_Size</th>\n",
       "      <th>Store_Location_Type</th>\n",
       "      <th>Store_Type</th>\n",
       "    </tr>\n",
       "  </thead>\n",
       "  <tbody>\n",
       "    <tr>\n",
       "      <th>0</th>\n",
       "      <td>2194</td>\n",
       "      <td>FOOD-56-36</td>\n",
       "      <td>7.720</td>\n",
       "      <td>Regular</td>\n",
       "      <td>Regular</td>\n",
       "      <td>0.228457</td>\n",
       "      <td>Fruits and Vegetables</td>\n",
       "      <td>88.49825</td>\n",
       "      <td>S-0522</td>\n",
       "      <td>2009</td>\n",
       "      <td>Medium</td>\n",
       "      <td>Tier 3</td>\n",
       "      <td>Supermarket Type2</td>\n",
       "    </tr>\n",
       "    <tr>\n",
       "      <th>1</th>\n",
       "      <td>2916</td>\n",
       "      <td>FOOD-63-02</td>\n",
       "      <td>NaN</td>\n",
       "      <td>High Salt</td>\n",
       "      <td>Regular</td>\n",
       "      <td>0.315803</td>\n",
       "      <td>Fruits and Vegetables</td>\n",
       "      <td>212.42125</td>\n",
       "      <td>S-0551</td>\n",
       "      <td>1985</td>\n",
       "      <td>Small</td>\n",
       "      <td>Tier 1</td>\n",
       "      <td>Grocery Store</td>\n",
       "    </tr>\n",
       "    <tr>\n",
       "      <th>2</th>\n",
       "      <td>4012</td>\n",
       "      <td>FOOD-02-32</td>\n",
       "      <td>8.155</td>\n",
       "      <td>r</td>\n",
       "      <td>High Salt</td>\n",
       "      <td>0.183367</td>\n",
       "      <td>Frozen Foods</td>\n",
       "      <td>84.41925</td>\n",
       "      <td>S-1305</td>\n",
       "      <td>2002</td>\n",
       "      <td>NaN</td>\n",
       "      <td>2</td>\n",
       "      <td>Supermarket Type1</td>\n",
       "    </tr>\n",
       "    <tr>\n",
       "      <th>3</th>\n",
       "      <td>2966</td>\n",
       "      <td>NCON-38-15</td>\n",
       "      <td>9.060</td>\n",
       "      <td>NaN</td>\n",
       "      <td>Regular</td>\n",
       "      <td>0.098834</td>\n",
       "      <td>Others</td>\n",
       "      <td>254.32000</td>\n",
       "      <td>S-0377</td>\n",
       "      <td>1987</td>\n",
       "      <td>High</td>\n",
       "      <td>Tier 3</td>\n",
       "      <td>Supermarket Type1</td>\n",
       "    </tr>\n",
       "    <tr>\n",
       "      <th>4</th>\n",
       "      <td>2866</td>\n",
       "      <td>FOOD-64-02</td>\n",
       "      <td>15.700</td>\n",
       "      <td>High Salt</td>\n",
       "      <td>High Salt</td>\n",
       "      <td>0.137695</td>\n",
       "      <td>Fruits</td>\n",
       "      <td>66.31700</td>\n",
       "      <td>S-1421</td>\n",
       "      <td>1999</td>\n",
       "      <td>Medium</td>\n",
       "      <td>Tier 1</td>\n",
       "      <td>Supermarket Type1</td>\n",
       "    </tr>\n",
       "  </tbody>\n",
       "</table>\n",
       "</div>"
      ],
      "text/plain": [
       "   index Product_Code  Product_Weight Product_Fat_Content  \\\n",
       "0   2194   FOOD-56-36           7.720             Regular   \n",
       "1   2916   FOOD-63-02             NaN           High Salt   \n",
       "2   4012   FOOD-02-32           8.155                   r   \n",
       "3   2966   NCON-38-15           9.060                 NaN   \n",
       "4   2866   FOOD-64-02          15.700           High Salt   \n",
       "\n",
       "  Product_Salt_Content  Product_Visibility           Product_Type  \\\n",
       "0              Regular            0.228457  Fruits and Vegetables   \n",
       "1              Regular            0.315803  Fruits and Vegetables   \n",
       "2            High Salt            0.183367           Frozen Foods   \n",
       "3              Regular            0.098834                 Others   \n",
       "4            High Salt            0.137695                 Fruits   \n",
       "\n",
       "   Product_MRP Store_Code  Store_Opened Store_Size Store_Location_Type  \\\n",
       "0     88.49825     S-0522          2009     Medium              Tier 3   \n",
       "1    212.42125     S-0551          1985      Small              Tier 1   \n",
       "2     84.41925     S-1305          2002        NaN                   2   \n",
       "3    254.32000     S-0377          1987       High              Tier 3   \n",
       "4     66.31700     S-1421          1999     Medium              Tier 1   \n",
       "\n",
       "          Store_Type  \n",
       "0  Supermarket Type2  \n",
       "1      Grocery Store  \n",
       "2  Supermarket Type1  \n",
       "3  Supermarket Type1  \n",
       "4  Supermarket Type1  "
      ]
     },
     "metadata": {},
     "output_type": "display_data"
    },
    {
     "data": {
      "text/markdown": [
       "\n",
       "**Missing Values**"
      ],
      "text/plain": [
       "<IPython.core.display.Markdown object>"
      ]
     },
     "metadata": {},
     "output_type": "display_data"
    },
    {
     "data": {
      "text/plain": [
       "index                      0\n",
       "Product_Code               0\n",
       "Product_Weight           675\n",
       "Product_Fat_Content      778\n",
       "Product_Salt_Content       0\n",
       "Product_Visibility         0\n",
       "Product_Type               0\n",
       "Product_MRP                0\n",
       "Store_Code                 0\n",
       "Store_Opened               0\n",
       "Store_Size              1149\n",
       "Store_Location_Type        0\n",
       "Store_Type                 0\n",
       "dtype: int64"
      ]
     },
     "metadata": {},
     "output_type": "display_data"
    },
    {
     "data": {
      "text/markdown": [
       "\n",
       "**dtypes**"
      ],
      "text/plain": [
       "<IPython.core.display.Markdown object>"
      ]
     },
     "metadata": {},
     "output_type": "display_data"
    },
    {
     "data": {
      "text/plain": [
       "index                     int64\n",
       "Product_Code             object\n",
       "Product_Weight          float64\n",
       "Product_Fat_Content      object\n",
       "Product_Salt_Content     object\n",
       "Product_Visibility      float64\n",
       "Product_Type             object\n",
       "Product_MRP             float64\n",
       "Store_Code               object\n",
       "Store_Opened              int64\n",
       "Store_Size               object\n",
       "Store_Location_Type      object\n",
       "Store_Type               object\n",
       "dtype: object"
      ]
     },
     "metadata": {},
     "output_type": "display_data"
    }
   ],
   "source": [
    "FORCE = True \n",
    "DEBUG = False\n",
    "if not os.path.isdir(\"data\"): os.makedirs(\"data\", exist_ok=True)\n",
    "    \n",
    "df_test = pd.read_csv(\"src/df_test.csv\")\n",
    "summarise_dataframe(df_test)"
   ]
  },
  {
   "cell_type": "markdown",
   "metadata": {},
   "source": [
    "# Pre-EDA EDA and Data cleaning"
   ]
  },
  {
   "cell_type": "code",
   "execution_count": 5,
   "metadata": {},
   "outputs": [],
   "source": [
    "# From previous section 3 columns have missing data, and there are 8 categorical variables\n",
    "# Store_Type, Store_Location_Type has at least 3 different types\n",
    "# Store_Size -> small, medium, high and nan\n",
    "\n",
    "# Product_Fat_Content depending on Product_Type == others won't have fat \n",
    "\n",
    "index = [\n",
    "    \"Product_Code\",\n",
    "    \"Product_Weight\",\n",
    "    \"Product_Fat_Content\",\n",
    "    \"Product_Salt_Content\",\n",
    "    \"Product_Visibility\",\n",
    "    \"Product_Type\",\n",
    "    \"Product_MRP\",\n",
    "    \"Store_Code\",\n",
    "    \"Store_Opened\",\n",
    "    \"Store_Size\",\n",
    "    \"Store_Location_Type\",\n",
    "    \"Store_Type\"\n",
    "]\n",
    "target = \"Product_Store_Sales\""
   ]
  },
  {
   "cell_type": "markdown",
   "metadata": {},
   "source": [
    "## Store_Type"
   ]
  },
  {
   "cell_type": "code",
   "execution_count": 6,
   "metadata": {},
   "outputs": [
    {
     "data": {
      "text/plain": [
       "array(['Supermarket Type2', 'Grocery Store', 'Supermarket Type1',\n",
       "       'Supermarket Type3'], dtype=object)"
      ]
     },
     "execution_count": 6,
     "metadata": {},
     "output_type": "execute_result"
    }
   ],
   "source": [
    "df_test.Store_Type.unique()"
   ]
  },
  {
   "cell_type": "markdown",
   "metadata": {},
   "source": [
    "## Store_Location_Type"
   ]
  },
  {
   "cell_type": "markdown",
   "metadata": {},
   "source": [
    "# Needs to be fixed to three instead of six\n",
    "df_test.Store_Location_Type.unique()"
   ]
  },
  {
   "cell_type": "code",
   "execution_count": 8,
   "metadata": {},
   "outputs": [],
   "source": [
    "df_test.Store_Location_Type = df_test.Store_Location_Type.apply(lambda x: x.split()[-1] if x in [\"Tier 1\", \"Tier 2\", \"Tier 3\"] else x.strip())"
   ]
  },
  {
   "cell_type": "code",
   "execution_count": 9,
   "metadata": {},
   "outputs": [
    {
     "data": {
      "text/plain": [
       "array(['3', '1', '2'], dtype=object)"
      ]
     },
     "execution_count": 9,
     "metadata": {},
     "output_type": "execute_result"
    }
   ],
   "source": [
    "df_test.Store_Location_Type.unique()"
   ]
  },
  {
   "cell_type": "markdown",
   "metadata": {},
   "source": [
    "## Product_Fat_Content"
   ]
  },
  {
   "cell_type": "code",
   "execution_count": 10,
   "metadata": {},
   "outputs": [
    {
     "data": {
      "text/plain": [
       "array(['Regular', 'High Salt', 'r', nan, 'low Salt', 'regular',\n",
       "       'Low Salt', 'Lw salt', 'LS', 'Low'], dtype=object)"
      ]
     },
     "execution_count": 10,
     "metadata": {},
     "output_type": "execute_result"
    }
   ],
   "source": [
    "# Needs to be fixed to low, regular, high, nan\n",
    "df_test.Product_Fat_Content.unique()"
   ]
  },
  {
   "cell_type": "code",
   "execution_count": 11,
   "metadata": {},
   "outputs": [],
   "source": [
    "def replaceRow(row):\n",
    "    row = row.lower()\n",
    "    if row in [\"regular\", \"r\"]:\n",
    "        row = \"r\"\n",
    "    elif row == \"high salt\":\n",
    "        row = \"h\"\n",
    "    else:\n",
    "        row = \"l\"\n",
    "    return row\n",
    "\n",
    "df_test.Product_Fat_Content = df_test.Product_Fat_Content.apply(lambda x: replaceRow(x) if type(x) == str else x)"
   ]
  },
  {
   "cell_type": "code",
   "execution_count": 12,
   "metadata": {},
   "outputs": [
    {
     "data": {
      "text/plain": [
       "array(['r', 'h', nan, 'l'], dtype=object)"
      ]
     },
     "execution_count": 12,
     "metadata": {},
     "output_type": "execute_result"
    }
   ],
   "source": [
    "df_test.Product_Fat_Content.unique()"
   ]
  },
  {
   "cell_type": "markdown",
   "metadata": {},
   "source": [
    "## Product_Type"
   ]
  },
  {
   "cell_type": "code",
   "execution_count": 32,
   "metadata": {},
   "outputs": [
    {
     "data": {
      "text/plain": [
       "array(['Fruits_and_Vegetables', 'Frozen_Foods', 'Others', 'Fruits',\n",
       "       'Health_and_Hygiene', 'Baking_Goods', 'Household', 'Vegetables',\n",
       "       'Snack_Foods', 'Breads', 'Canned', 'Hard_Drinks', 'Soft_Drinks',\n",
       "       'Meat', 'Dairy', 'Starchy_Foods', 'Breakfast', 'Snacks', 'Health',\n",
       "       'Cosmetics', 'Seafood'], dtype=object)"
      ]
     },
     "execution_count": 32,
     "metadata": {},
     "output_type": "execute_result"
    }
   ],
   "source": [
    "# contains duplicates\n",
    "# temp = df_test.Product_Type.unique()\n",
    "# types = []\n",
    "# for c in temp:\n",
    "#    types.append(c.replace(\" \", \"_\"))\n",
    "# types\n",
    "df_test.Product_Type = df_test.Product_Type.apply(lambda x: x.replace(\" \", \"_\"))\n",
    "df_test.Product_Type.unique()"
   ]
  },
  {
   "cell_type": "code",
   "execution_count": 30,
   "metadata": {},
   "outputs": [
    {
     "ename": "KeyError",
     "evalue": "'Fruits and Vegetables'",
     "output_type": "error",
     "traceback": [
      "\u001b[1;31m---------------------------------------------------------------------------\u001b[0m",
      "\u001b[1;31mKeyError\u001b[0m                                  Traceback (most recent call last)",
      "\u001b[1;32m<ipython-input-30-f074d9ae7c7b>\u001b[0m in \u001b[0;36m<module>\u001b[1;34m\u001b[0m\n\u001b[0;32m      1\u001b[0m \u001b[1;31m# df = male_trips.groupby('start_station_id').size()\u001b[0m\u001b[1;33m\u001b[0m\u001b[1;33m\u001b[0m\u001b[1;33m\u001b[0m\u001b[0m\n\u001b[0;32m      2\u001b[0m \u001b[1;32mfor\u001b[0m \u001b[0mt\u001b[0m \u001b[1;32min\u001b[0m \u001b[0mtemp\u001b[0m\u001b[1;33m:\u001b[0m\u001b[1;33m\u001b[0m\u001b[1;33m\u001b[0m\u001b[0m\n\u001b[1;32m----> 3\u001b[1;33m     \u001b[0mprint\u001b[0m\u001b[1;33m(\u001b[0m\u001b[0mdf_test\u001b[0m\u001b[1;33m.\u001b[0m\u001b[0mgroupby\u001b[0m\u001b[1;33m(\u001b[0m\u001b[0mt\u001b[0m\u001b[1;33m)\u001b[0m\u001b[1;33m.\u001b[0m\u001b[0msize\u001b[0m\u001b[1;33m(\u001b[0m\u001b[1;33m)\u001b[0m\u001b[1;33m)\u001b[0m\u001b[1;33m\u001b[0m\u001b[1;33m\u001b[0m\u001b[0m\n\u001b[0m",
      "\u001b[1;32mD:\\opt\\Anaconda3\\lib\\site-packages\\pandas\\core\\generic.py\u001b[0m in \u001b[0;36mgroupby\u001b[1;34m(self, by, axis, level, as_index, sort, group_keys, squeeze, observed, **kwargs)\u001b[0m\n\u001b[0;32m   6663\u001b[0m         return groupby(self, by=by, axis=axis, level=level, as_index=as_index,\n\u001b[0;32m   6664\u001b[0m                        \u001b[0msort\u001b[0m\u001b[1;33m=\u001b[0m\u001b[0msort\u001b[0m\u001b[1;33m,\u001b[0m \u001b[0mgroup_keys\u001b[0m\u001b[1;33m=\u001b[0m\u001b[0mgroup_keys\u001b[0m\u001b[1;33m,\u001b[0m \u001b[0msqueeze\u001b[0m\u001b[1;33m=\u001b[0m\u001b[0msqueeze\u001b[0m\u001b[1;33m,\u001b[0m\u001b[1;33m\u001b[0m\u001b[1;33m\u001b[0m\u001b[0m\n\u001b[1;32m-> 6665\u001b[1;33m                        observed=observed, **kwargs)\n\u001b[0m\u001b[0;32m   6666\u001b[0m \u001b[1;33m\u001b[0m\u001b[0m\n\u001b[0;32m   6667\u001b[0m     def asfreq(self, freq, method=None, how=None, normalize=False,\n",
      "\u001b[1;32mD:\\opt\\Anaconda3\\lib\\site-packages\\pandas\\core\\groupby\\groupby.py\u001b[0m in \u001b[0;36mgroupby\u001b[1;34m(obj, by, **kwds)\u001b[0m\n\u001b[0;32m   2150\u001b[0m         \u001b[1;32mraise\u001b[0m \u001b[0mTypeError\u001b[0m\u001b[1;33m(\u001b[0m\u001b[1;34m'invalid type: %s'\u001b[0m \u001b[1;33m%\u001b[0m \u001b[0mtype\u001b[0m\u001b[1;33m(\u001b[0m\u001b[0mobj\u001b[0m\u001b[1;33m)\u001b[0m\u001b[1;33m)\u001b[0m\u001b[1;33m\u001b[0m\u001b[1;33m\u001b[0m\u001b[0m\n\u001b[0;32m   2151\u001b[0m \u001b[1;33m\u001b[0m\u001b[0m\n\u001b[1;32m-> 2152\u001b[1;33m     \u001b[1;32mreturn\u001b[0m \u001b[0mklass\u001b[0m\u001b[1;33m(\u001b[0m\u001b[0mobj\u001b[0m\u001b[1;33m,\u001b[0m \u001b[0mby\u001b[0m\u001b[1;33m,\u001b[0m \u001b[1;33m**\u001b[0m\u001b[0mkwds\u001b[0m\u001b[1;33m)\u001b[0m\u001b[1;33m\u001b[0m\u001b[1;33m\u001b[0m\u001b[0m\n\u001b[0m\u001b[0;32m   2153\u001b[0m \u001b[1;33m\u001b[0m\u001b[0m\n\u001b[0;32m   2154\u001b[0m \u001b[1;33m\u001b[0m\u001b[0m\n",
      "\u001b[1;32mD:\\opt\\Anaconda3\\lib\\site-packages\\pandas\\core\\groupby\\groupby.py\u001b[0m in \u001b[0;36m__init__\u001b[1;34m(self, obj, keys, axis, level, grouper, exclusions, selection, as_index, sort, group_keys, squeeze, observed, **kwargs)\u001b[0m\n\u001b[0;32m    597\u001b[0m                                                     \u001b[0msort\u001b[0m\u001b[1;33m=\u001b[0m\u001b[0msort\u001b[0m\u001b[1;33m,\u001b[0m\u001b[1;33m\u001b[0m\u001b[1;33m\u001b[0m\u001b[0m\n\u001b[0;32m    598\u001b[0m                                                     \u001b[0mobserved\u001b[0m\u001b[1;33m=\u001b[0m\u001b[0mobserved\u001b[0m\u001b[1;33m,\u001b[0m\u001b[1;33m\u001b[0m\u001b[1;33m\u001b[0m\u001b[0m\n\u001b[1;32m--> 599\u001b[1;33m                                                     mutated=self.mutated)\n\u001b[0m\u001b[0;32m    600\u001b[0m \u001b[1;33m\u001b[0m\u001b[0m\n\u001b[0;32m    601\u001b[0m         \u001b[0mself\u001b[0m\u001b[1;33m.\u001b[0m\u001b[0mobj\u001b[0m \u001b[1;33m=\u001b[0m \u001b[0mobj\u001b[0m\u001b[1;33m\u001b[0m\u001b[1;33m\u001b[0m\u001b[0m\n",
      "\u001b[1;32mD:\\opt\\Anaconda3\\lib\\site-packages\\pandas\\core\\groupby\\groupby.py\u001b[0m in \u001b[0;36m_get_grouper\u001b[1;34m(obj, key, axis, level, sort, observed, mutated, validate)\u001b[0m\n\u001b[0;32m   3289\u001b[0m                 \u001b[0min_axis\u001b[0m\u001b[1;33m,\u001b[0m \u001b[0mname\u001b[0m\u001b[1;33m,\u001b[0m \u001b[0mlevel\u001b[0m\u001b[1;33m,\u001b[0m \u001b[0mgpr\u001b[0m \u001b[1;33m=\u001b[0m \u001b[1;32mFalse\u001b[0m\u001b[1;33m,\u001b[0m \u001b[1;32mNone\u001b[0m\u001b[1;33m,\u001b[0m \u001b[0mgpr\u001b[0m\u001b[1;33m,\u001b[0m \u001b[1;32mNone\u001b[0m\u001b[1;33m\u001b[0m\u001b[1;33m\u001b[0m\u001b[0m\n\u001b[0;32m   3290\u001b[0m             \u001b[1;32melse\u001b[0m\u001b[1;33m:\u001b[0m\u001b[1;33m\u001b[0m\u001b[1;33m\u001b[0m\u001b[0m\n\u001b[1;32m-> 3291\u001b[1;33m                 \u001b[1;32mraise\u001b[0m \u001b[0mKeyError\u001b[0m\u001b[1;33m(\u001b[0m\u001b[0mgpr\u001b[0m\u001b[1;33m)\u001b[0m\u001b[1;33m\u001b[0m\u001b[1;33m\u001b[0m\u001b[0m\n\u001b[0m\u001b[0;32m   3292\u001b[0m         \u001b[1;32melif\u001b[0m \u001b[0misinstance\u001b[0m\u001b[1;33m(\u001b[0m\u001b[0mgpr\u001b[0m\u001b[1;33m,\u001b[0m \u001b[0mGrouper\u001b[0m\u001b[1;33m)\u001b[0m \u001b[1;32mand\u001b[0m \u001b[0mgpr\u001b[0m\u001b[1;33m.\u001b[0m\u001b[0mkey\u001b[0m \u001b[1;32mis\u001b[0m \u001b[1;32mnot\u001b[0m \u001b[1;32mNone\u001b[0m\u001b[1;33m:\u001b[0m\u001b[1;33m\u001b[0m\u001b[1;33m\u001b[0m\u001b[0m\n\u001b[0;32m   3293\u001b[0m             \u001b[1;31m# Add key to exclusions\u001b[0m\u001b[1;33m\u001b[0m\u001b[1;33m\u001b[0m\u001b[1;33m\u001b[0m\u001b[0m\n",
      "\u001b[1;31mKeyError\u001b[0m: 'Fruits and Vegetables'"
     ]
    }
   ],
   "source": [
    "# df = male_trips.groupby('start_station_id').size()\n",
    "for t in temp:\n",
    "    print(df_test.groupby(t).size())"
   ]
  },
  {
   "cell_type": "markdown",
   "metadata": {},
   "source": [
    "## Product_Salt_Content"
   ]
  },
  {
   "cell_type": "code",
   "execution_count": 14,
   "metadata": {},
   "outputs": [
    {
     "data": {
      "text/plain": [
       "array(['Regular', 'High Salt', 'Low Salt'], dtype=object)"
      ]
     },
     "execution_count": 14,
     "metadata": {},
     "output_type": "execute_result"
    }
   ],
   "source": [
    "df_test.Product_Salt_Content.unique()"
   ]
  },
  {
   "cell_type": "markdown",
   "metadata": {},
   "source": [
    "## NAN"
   ]
  },
  {
   "cell_type": "markdown",
   "metadata": {},
   "source": [
    "### Product_Weight"
   ]
  },
  {
   "cell_type": "code",
   "execution_count": null,
   "metadata": {},
   "outputs": [],
   "source": [
    "# Product_Weight -> Product_Type"
   ]
  },
  {
   "cell_type": "markdown",
   "metadata": {},
   "source": [
    "### Product_Fat_Content "
   ]
  },
  {
   "cell_type": "markdown",
   "metadata": {},
   "source": [
    "### Store_Size"
   ]
  },
  {
   "cell_type": "code",
   "execution_count": null,
   "metadata": {},
   "outputs": [],
   "source": []
  }
 ],
 "metadata": {
  "kernelspec": {
   "display_name": "Python 3",
   "language": "python",
   "name": "python3"
  },
  "language_info": {
   "codemirror_mode": {
    "name": "ipython",
    "version": 3
   },
   "file_extension": ".py",
   "mimetype": "text/x-python",
   "name": "python",
   "nbconvert_exporter": "python",
   "pygments_lexer": "ipython3",
   "version": "3.7.1"
  }
 },
 "nbformat": 4,
 "nbformat_minor": 2
}
