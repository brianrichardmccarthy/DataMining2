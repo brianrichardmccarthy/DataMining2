{
 "cells": [
  {
   "cell_type": "markdown",
   "metadata": {},
   "source": [
    "# Hyperparameer Tuning - Churn"
   ]
  },
  {
   "cell_type": "markdown",
   "metadata": {},
   "source": [
    "## Load Libraries"
   ]
  },
  {
   "cell_type": "code",
   "execution_count": 2,
   "metadata": {},
   "outputs": [],
   "source": [
    "import pandas as pd\n",
    "import numpy as np\n",
    "import matplotlib.pyplot as plt\n",
    "import seaborn as sns\n",
    "sns.set()\n",
    "sns.set(style=\"whitegrid\")\n",
    "sns.set_context(\"notebook\")"
   ]
  },
  {
   "cell_type": "code",
   "execution_count": 3,
   "metadata": {},
   "outputs": [],
   "source": [
    "from IPython.display import Markdown, display\n",
    "\n",
    "OUT = \"output\"\n",
    "import os\n",
    "os.makedirs(OUT, exist_ok=True)\n",
    "SHOW_PLOTS = True\n",
    "TEST_TRAIN_SEED = 666\n",
    "\n",
    "def summarise_dataframe(df):\n",
    "    display(Markdown(\"\\n**Dataframe (%s x %s)**\\n\" % df.shape), df.head())\n",
    "    display(Markdown(\"\\n**Missing Values**\"), df.isna().sum())\n",
    "    display(Markdown(\"\\n**dtypes**\"), df.dtypes)"
   ]
  },
  {
   "cell_type": "code",
   "execution_count": 4,
   "metadata": {},
   "outputs": [],
   "source": [
    "display_fraction = lambda n,d: (n/d*100, n, d)"
   ]
  },
  {
   "cell_type": "markdown",
   "metadata": {},
   "source": [
    "## Load and Prepare the Data \n",
    "\n",
    "Here we load the previously cleaned and merged dataset from _data_ folder or load the original dataset and perform the usual steps."
   ]
  },
  {
   "cell_type": "code",
   "execution_count": 5,
   "metadata": {},
   "outputs": [
    {
     "data": {
      "text/markdown": [
       "\n",
       "**Dataframe (3333 x 24)**\n"
      ],
      "text/plain": [
       "<IPython.core.display.Markdown object>"
      ]
     },
     "metadata": {},
     "output_type": "display_data"
    },
    {
     "data": {
      "text/html": [
       "<div>\n",
       "<style scoped>\n",
       "    .dataframe tbody tr th:only-of-type {\n",
       "        vertical-align: middle;\n",
       "    }\n",
       "\n",
       "    .dataframe tbody tr th {\n",
       "        vertical-align: top;\n",
       "    }\n",
       "\n",
       "    .dataframe thead th {\n",
       "        text-align: right;\n",
       "    }\n",
       "</style>\n",
       "<table border=\"1\" class=\"dataframe\">\n",
       "  <thead>\n",
       "    <tr style=\"text-align: right;\">\n",
       "      <th></th>\n",
       "      <th>State</th>\n",
       "      <th>Account_Length</th>\n",
       "      <th>Area_Code</th>\n",
       "      <th>Phone</th>\n",
       "      <th>Intl_Plan</th>\n",
       "      <th>VMail_Plan</th>\n",
       "      <th>VMail_Message</th>\n",
       "      <th>Day_Mins</th>\n",
       "      <th>Day_Calls</th>\n",
       "      <th>Day_Charge</th>\n",
       "      <th>...</th>\n",
       "      <th>Night_Calls</th>\n",
       "      <th>Night_Charge</th>\n",
       "      <th>Intl_Mins</th>\n",
       "      <th>Intl_Calls</th>\n",
       "      <th>Intl_Charge</th>\n",
       "      <th>Cust_Serv_Calls</th>\n",
       "      <th>Churn</th>\n",
       "      <th>Latitude</th>\n",
       "      <th>Longitude</th>\n",
       "      <th>Name</th>\n",
       "    </tr>\n",
       "  </thead>\n",
       "  <tbody>\n",
       "    <tr>\n",
       "      <th>0</th>\n",
       "      <td>KS</td>\n",
       "      <td>128</td>\n",
       "      <td>415</td>\n",
       "      <td>382-4657</td>\n",
       "      <td>0</td>\n",
       "      <td>1</td>\n",
       "      <td>25</td>\n",
       "      <td>265.1</td>\n",
       "      <td>110</td>\n",
       "      <td>45.07</td>\n",
       "      <td>...</td>\n",
       "      <td>91</td>\n",
       "      <td>11.01</td>\n",
       "      <td>10.0</td>\n",
       "      <td>3</td>\n",
       "      <td>2.70</td>\n",
       "      <td>1</td>\n",
       "      <td>0</td>\n",
       "      <td>39.011902</td>\n",
       "      <td>-98.484246</td>\n",
       "      <td>Kansas</td>\n",
       "    </tr>\n",
       "    <tr>\n",
       "      <th>1</th>\n",
       "      <td>KS</td>\n",
       "      <td>70</td>\n",
       "      <td>408</td>\n",
       "      <td>411-4582</td>\n",
       "      <td>0</td>\n",
       "      <td>0</td>\n",
       "      <td>0</td>\n",
       "      <td>232.1</td>\n",
       "      <td>122</td>\n",
       "      <td>39.46</td>\n",
       "      <td>...</td>\n",
       "      <td>112</td>\n",
       "      <td>9.05</td>\n",
       "      <td>0.0</td>\n",
       "      <td>0</td>\n",
       "      <td>0.00</td>\n",
       "      <td>3</td>\n",
       "      <td>0</td>\n",
       "      <td>39.011902</td>\n",
       "      <td>-98.484246</td>\n",
       "      <td>Kansas</td>\n",
       "    </tr>\n",
       "    <tr>\n",
       "      <th>2</th>\n",
       "      <td>KS</td>\n",
       "      <td>92</td>\n",
       "      <td>408</td>\n",
       "      <td>386-4170</td>\n",
       "      <td>1</td>\n",
       "      <td>0</td>\n",
       "      <td>0</td>\n",
       "      <td>62.6</td>\n",
       "      <td>111</td>\n",
       "      <td>10.64</td>\n",
       "      <td>...</td>\n",
       "      <td>80</td>\n",
       "      <td>9.98</td>\n",
       "      <td>10.4</td>\n",
       "      <td>2</td>\n",
       "      <td>2.81</td>\n",
       "      <td>1</td>\n",
       "      <td>1</td>\n",
       "      <td>39.011902</td>\n",
       "      <td>-98.484246</td>\n",
       "      <td>Kansas</td>\n",
       "    </tr>\n",
       "    <tr>\n",
       "      <th>3</th>\n",
       "      <td>KS</td>\n",
       "      <td>137</td>\n",
       "      <td>408</td>\n",
       "      <td>352-8202</td>\n",
       "      <td>0</td>\n",
       "      <td>0</td>\n",
       "      <td>0</td>\n",
       "      <td>205.9</td>\n",
       "      <td>88</td>\n",
       "      <td>35.00</td>\n",
       "      <td>...</td>\n",
       "      <td>84</td>\n",
       "      <td>13.05</td>\n",
       "      <td>14.5</td>\n",
       "      <td>4</td>\n",
       "      <td>3.92</td>\n",
       "      <td>2</td>\n",
       "      <td>0</td>\n",
       "      <td>39.011902</td>\n",
       "      <td>-98.484246</td>\n",
       "      <td>Kansas</td>\n",
       "    </tr>\n",
       "    <tr>\n",
       "      <th>4</th>\n",
       "      <td>KS</td>\n",
       "      <td>132</td>\n",
       "      <td>415</td>\n",
       "      <td>369-3214</td>\n",
       "      <td>0</td>\n",
       "      <td>0</td>\n",
       "      <td>0</td>\n",
       "      <td>83.4</td>\n",
       "      <td>110</td>\n",
       "      <td>14.18</td>\n",
       "      <td>...</td>\n",
       "      <td>114</td>\n",
       "      <td>6.60</td>\n",
       "      <td>7.6</td>\n",
       "      <td>5</td>\n",
       "      <td>2.05</td>\n",
       "      <td>1</td>\n",
       "      <td>0</td>\n",
       "      <td>39.011902</td>\n",
       "      <td>-98.484246</td>\n",
       "      <td>Kansas</td>\n",
       "    </tr>\n",
       "  </tbody>\n",
       "</table>\n",
       "<p>5 rows × 24 columns</p>\n",
       "</div>"
      ],
      "text/plain": [
       "  State  Account_Length  Area_Code     Phone  Intl_Plan  VMail_Plan  \\\n",
       "0    KS             128        415  382-4657          0           1   \n",
       "1    KS              70        408  411-4582          0           0   \n",
       "2    KS              92        408  386-4170          1           0   \n",
       "3    KS             137        408  352-8202          0           0   \n",
       "4    KS             132        415  369-3214          0           0   \n",
       "\n",
       "   VMail_Message  Day_Mins  Day_Calls  Day_Charge   ...    Night_Calls  \\\n",
       "0             25     265.1        110       45.07   ...             91   \n",
       "1              0     232.1        122       39.46   ...            112   \n",
       "2              0      62.6        111       10.64   ...             80   \n",
       "3              0     205.9         88       35.00   ...             84   \n",
       "4              0      83.4        110       14.18   ...            114   \n",
       "\n",
       "   Night_Charge  Intl_Mins  Intl_Calls  Intl_Charge  Cust_Serv_Calls  Churn  \\\n",
       "0         11.01       10.0           3         2.70                1      0   \n",
       "1          9.05        0.0           0         0.00                3      0   \n",
       "2          9.98       10.4           2         2.81                1      1   \n",
       "3         13.05       14.5           4         3.92                2      0   \n",
       "4          6.60        7.6           5         2.05                1      0   \n",
       "\n",
       "    Latitude  Longitude    Name  \n",
       "0  39.011902 -98.484246  Kansas  \n",
       "1  39.011902 -98.484246  Kansas  \n",
       "2  39.011902 -98.484246  Kansas  \n",
       "3  39.011902 -98.484246  Kansas  \n",
       "4  39.011902 -98.484246  Kansas  \n",
       "\n",
       "[5 rows x 24 columns]"
      ]
     },
     "metadata": {},
     "output_type": "display_data"
    },
    {
     "data": {
      "text/markdown": [
       "\n",
       "**Missing Values**"
      ],
      "text/plain": [
       "<IPython.core.display.Markdown object>"
      ]
     },
     "metadata": {},
     "output_type": "display_data"
    },
    {
     "data": {
      "text/plain": [
       "State              0\n",
       "Account_Length     0\n",
       "Area_Code          0\n",
       "Phone              0\n",
       "Intl_Plan          0\n",
       "VMail_Plan         0\n",
       "VMail_Message      0\n",
       "Day_Mins           0\n",
       "Day_Calls          0\n",
       "Day_Charge         0\n",
       "Eve_Mins           0\n",
       "Eve_Calls          0\n",
       "Eve_Charge         0\n",
       "Night_Mins         0\n",
       "Night_Calls        0\n",
       "Night_Charge       0\n",
       "Intl_Mins          0\n",
       "Intl_Calls         0\n",
       "Intl_Charge        0\n",
       "Cust_Serv_Calls    0\n",
       "Churn              0\n",
       "Latitude           0\n",
       "Longitude          0\n",
       "Name               0\n",
       "dtype: int64"
      ]
     },
     "metadata": {},
     "output_type": "display_data"
    },
    {
     "data": {
      "text/markdown": [
       "\n",
       "**dtypes**"
      ],
      "text/plain": [
       "<IPython.core.display.Markdown object>"
      ]
     },
     "metadata": {},
     "output_type": "display_data"
    },
    {
     "data": {
      "text/plain": [
       "State               object\n",
       "Account_Length       int64\n",
       "Area_Code            int64\n",
       "Phone               object\n",
       "Intl_Plan            int64\n",
       "VMail_Plan           int64\n",
       "VMail_Message        int64\n",
       "Day_Mins           float64\n",
       "Day_Calls            int64\n",
       "Day_Charge         float64\n",
       "Eve_Mins           float64\n",
       "Eve_Calls            int64\n",
       "Eve_Charge         float64\n",
       "Night_Mins         float64\n",
       "Night_Calls          int64\n",
       "Night_Charge       float64\n",
       "Intl_Mins          float64\n",
       "Intl_Calls           int64\n",
       "Intl_Charge        float64\n",
       "Cust_Serv_Calls      int64\n",
       "Churn                int64\n",
       "Latitude           float64\n",
       "Longitude          float64\n",
       "Name                object\n",
       "dtype: object"
      ]
     },
     "metadata": {},
     "output_type": "display_data"
    }
   ],
   "source": [
    "FORCE = True \n",
    "DEBUG = False\n",
    "if not os.path.isdir(\"data\"): os.makedirs(\"data\", exist_ok=True)\n",
    "    \n",
    "if FORCE or not os.path.isfile(\"data/churn.csv\"):\n",
    "    \n",
    "    # load and prep Churn dataset\n",
    "    df_churn = pd.read_csv(\"src/churn.csv\")\n",
    "    if DEBUG: summarise_dataframe(df_churn)\n",
    "    # fix column names\n",
    "    names = df_churn.columns.tolist()\n",
    "    CORRECTIONS = {\" \":\"_\", \"'\":\"\", \"?\":\"\", \"CustServ\":\"Cust_Serv\"}\n",
    "    def fixName(s):\n",
    "        for a,b in CORRECTIONS.items():\n",
    "            s = s.replace(a,b)\n",
    "        return s\n",
    "    mapping = {c:fixName(c) for c in names}\n",
    "    df_churn.rename(columns=mapping, inplace=True)\n",
    "    # encode categatorical features and target \n",
    "    df_churn.Intl_Plan = df_churn.Intl_Plan.map( {\"yes\":1, \"no\":0} )\n",
    "    df_churn.VMail_Plan = df_churn.VMail_Plan.apply( lambda x: int(x=='yes') )\n",
    "    df_churn.Churn = df_churn.Churn.apply( lambda x: int(x==\"True.\") )\n",
    "    \n",
    "    # # load and prep State dataset\n",
    "    df_states = pd.read_csv(\"src/states.csv\")\n",
    "    \n",
    "    df_churn = df_churn.merge(df_states,on='State')\n",
    "    \n",
    "    # save perpared dataset\n",
    "    df_churn.to_csv(\"data/churn.csv\", index=False)\n",
    "\n",
    "# always (reload) written datset\n",
    "df_all = pd.read_csv(\"data/churn.csv\")\n",
    "summarise_dataframe(df_all)"
   ]
  },
  {
   "cell_type": "markdown",
   "metadata": {},
   "source": [
    "## Pre-Processing Data\n",
    "\n",
    "Next drop columns that are of no benefit "
   ]
  },
  {
   "cell_type": "code",
   "execution_count": 6,
   "metadata": {},
   "outputs": [
    {
     "name": "stdout",
     "output_type": "stream",
     "text": [
      "Initial features are ['State', 'Account_Length', 'Intl_Plan', 'VMail_Plan', 'VMail_Message', 'Day_Mins', 'Day_Calls', 'Eve_Mins', 'Eve_Calls', 'Night_Mins', 'Night_Calls', 'Intl_Mins', 'Intl_Calls', 'Cust_Serv_Calls', 'Latitude', 'Longitude']\n"
     ]
    }
   ],
   "source": [
    "target = \"Churn\"\n",
    "attributes_initial = df_churn.columns.tolist()\n",
    "attributes_initial.remove(target) \n",
    "\n",
    "attributes_initial = [a for a in attributes_initial if a not in [\"Phone\", \"Area_Code\", \"Name\"] and a[-6:]!=\"Charge\"]\n",
    "\n",
    "print(\"Initial features are %s\" % attributes_initial)\n",
    "\n",
    "df_model = df_all.loc[:, attributes_initial + [target]]"
   ]
  },
  {
   "cell_type": "code",
   "execution_count": 7,
   "metadata": {},
   "outputs": [
    {
     "data": {
      "text/html": [
       "<div>\n",
       "<style scoped>\n",
       "    .dataframe tbody tr th:only-of-type {\n",
       "        vertical-align: middle;\n",
       "    }\n",
       "\n",
       "    .dataframe tbody tr th {\n",
       "        vertical-align: top;\n",
       "    }\n",
       "\n",
       "    .dataframe thead th {\n",
       "        text-align: right;\n",
       "    }\n",
       "</style>\n",
       "<table border=\"1\" class=\"dataframe\">\n",
       "  <thead>\n",
       "    <tr style=\"text-align: right;\">\n",
       "      <th></th>\n",
       "      <th>State</th>\n",
       "      <th>Account_Length</th>\n",
       "      <th>Intl_Plan</th>\n",
       "      <th>VMail_Plan</th>\n",
       "      <th>VMail_Message</th>\n",
       "      <th>Day_Mins</th>\n",
       "      <th>Day_Calls</th>\n",
       "      <th>Eve_Mins</th>\n",
       "      <th>Eve_Calls</th>\n",
       "      <th>Night_Mins</th>\n",
       "      <th>Night_Calls</th>\n",
       "      <th>Intl_Mins</th>\n",
       "      <th>Intl_Calls</th>\n",
       "      <th>Cust_Serv_Calls</th>\n",
       "      <th>Latitude</th>\n",
       "      <th>Longitude</th>\n",
       "      <th>Churn</th>\n",
       "    </tr>\n",
       "  </thead>\n",
       "  <tbody>\n",
       "    <tr>\n",
       "      <th>0</th>\n",
       "      <td>KS</td>\n",
       "      <td>128</td>\n",
       "      <td>0</td>\n",
       "      <td>1</td>\n",
       "      <td>25</td>\n",
       "      <td>265.1</td>\n",
       "      <td>110</td>\n",
       "      <td>197.4</td>\n",
       "      <td>99</td>\n",
       "      <td>244.7</td>\n",
       "      <td>91</td>\n",
       "      <td>10.0</td>\n",
       "      <td>3</td>\n",
       "      <td>1</td>\n",
       "      <td>39.011902</td>\n",
       "      <td>-98.484246</td>\n",
       "      <td>0</td>\n",
       "    </tr>\n",
       "    <tr>\n",
       "      <th>1</th>\n",
       "      <td>KS</td>\n",
       "      <td>70</td>\n",
       "      <td>0</td>\n",
       "      <td>0</td>\n",
       "      <td>0</td>\n",
       "      <td>232.1</td>\n",
       "      <td>122</td>\n",
       "      <td>292.3</td>\n",
       "      <td>112</td>\n",
       "      <td>201.2</td>\n",
       "      <td>112</td>\n",
       "      <td>0.0</td>\n",
       "      <td>0</td>\n",
       "      <td>3</td>\n",
       "      <td>39.011902</td>\n",
       "      <td>-98.484246</td>\n",
       "      <td>0</td>\n",
       "    </tr>\n",
       "    <tr>\n",
       "      <th>2</th>\n",
       "      <td>KS</td>\n",
       "      <td>92</td>\n",
       "      <td>1</td>\n",
       "      <td>0</td>\n",
       "      <td>0</td>\n",
       "      <td>62.6</td>\n",
       "      <td>111</td>\n",
       "      <td>180.6</td>\n",
       "      <td>126</td>\n",
       "      <td>221.7</td>\n",
       "      <td>80</td>\n",
       "      <td>10.4</td>\n",
       "      <td>2</td>\n",
       "      <td>1</td>\n",
       "      <td>39.011902</td>\n",
       "      <td>-98.484246</td>\n",
       "      <td>1</td>\n",
       "    </tr>\n",
       "    <tr>\n",
       "      <th>3</th>\n",
       "      <td>KS</td>\n",
       "      <td>137</td>\n",
       "      <td>0</td>\n",
       "      <td>0</td>\n",
       "      <td>0</td>\n",
       "      <td>205.9</td>\n",
       "      <td>88</td>\n",
       "      <td>209.3</td>\n",
       "      <td>86</td>\n",
       "      <td>289.9</td>\n",
       "      <td>84</td>\n",
       "      <td>14.5</td>\n",
       "      <td>4</td>\n",
       "      <td>2</td>\n",
       "      <td>39.011902</td>\n",
       "      <td>-98.484246</td>\n",
       "      <td>0</td>\n",
       "    </tr>\n",
       "    <tr>\n",
       "      <th>4</th>\n",
       "      <td>KS</td>\n",
       "      <td>132</td>\n",
       "      <td>0</td>\n",
       "      <td>0</td>\n",
       "      <td>0</td>\n",
       "      <td>83.4</td>\n",
       "      <td>110</td>\n",
       "      <td>232.2</td>\n",
       "      <td>137</td>\n",
       "      <td>146.7</td>\n",
       "      <td>114</td>\n",
       "      <td>7.6</td>\n",
       "      <td>5</td>\n",
       "      <td>1</td>\n",
       "      <td>39.011902</td>\n",
       "      <td>-98.484246</td>\n",
       "      <td>0</td>\n",
       "    </tr>\n",
       "  </tbody>\n",
       "</table>\n",
       "</div>"
      ],
      "text/plain": [
       "  State  Account_Length  Intl_Plan  VMail_Plan  VMail_Message  Day_Mins  \\\n",
       "0    KS             128          0           1             25     265.1   \n",
       "1    KS              70          0           0              0     232.1   \n",
       "2    KS              92          1           0              0      62.6   \n",
       "3    KS             137          0           0              0     205.9   \n",
       "4    KS             132          0           0              0      83.4   \n",
       "\n",
       "   Day_Calls  Eve_Mins  Eve_Calls  Night_Mins  Night_Calls  Intl_Mins  \\\n",
       "0        110     197.4         99       244.7           91       10.0   \n",
       "1        122     292.3        112       201.2          112        0.0   \n",
       "2        111     180.6        126       221.7           80       10.4   \n",
       "3         88     209.3         86       289.9           84       14.5   \n",
       "4        110     232.2        137       146.7          114        7.6   \n",
       "\n",
       "   Intl_Calls  Cust_Serv_Calls   Latitude  Longitude  Churn  \n",
       "0           3                1  39.011902 -98.484246      0  \n",
       "1           0                3  39.011902 -98.484246      0  \n",
       "2           2                1  39.011902 -98.484246      1  \n",
       "3           4                2  39.011902 -98.484246      0  \n",
       "4           5                1  39.011902 -98.484246      0  "
      ]
     },
     "execution_count": 7,
     "metadata": {},
     "output_type": "execute_result"
    }
   ],
   "source": [
    "df_model.head()"
   ]
  },
  {
   "cell_type": "markdown",
   "metadata": {},
   "source": [
    "### Train-Test Split"
   ]
  },
  {
   "cell_type": "code",
   "execution_count": 8,
   "metadata": {},
   "outputs": [],
   "source": [
    "from sklearn.model_selection import train_test_split\n",
    "\n",
    "df_train, df_test = train_test_split(df_model, stratify=df_model[target], test_size=.25, random_state=TEST_TRAIN_SEED)"
   ]
  },
  {
   "cell_type": "markdown",
   "metadata": {},
   "source": [
    "## Feature_Engineering \n",
    "\n",
    "Features engineering and selection decisions are carried out on __df_train__ ONLY, but resulting operations should be applied to both __df_train__ and __df_test__. The simplest way to do this (without repeating code) is to apply operations to __df_model__ and repeat the train/test split USING THE SAME SEED.\n",
    "\n",
    "Note: Features here are not optimal just wanted a simple common start point for all."
   ]
  },
  {
   "cell_type": "markdown",
   "metadata": {},
   "source": [
    "### Plans"
   ]
  },
  {
   "cell_type": "code",
   "execution_count": 9,
   "metadata": {},
   "outputs": [],
   "source": [
    "df_model[\"Plans_Both\"] = df_model.apply (lambda row: (row.Intl_Plan and row.VMail_Plan), axis=1)\n",
    "df_model[\"Plans_Intl_Only\"] = df_model.apply (lambda row: (row.Intl_Plan and not row.VMail_Plan), axis=1)\n",
    "df_model[\"Plans_VMail_Only\"] = df_model.apply (lambda row: (not row.Intl_Plan and row.VMail_Plan), axis=1)\n",
    "df_model[\"Plans_None\"] = df_model.apply (lambda row: (not row.Intl_Plan and not row.VMail_Plan), axis=1)"
   ]
  },
  {
   "cell_type": "markdown",
   "metadata": {},
   "source": [
    "### Cust_Serv_Calls => Happy/Unhappy Customers"
   ]
  },
  {
   "cell_type": "code",
   "execution_count": 10,
   "metadata": {},
   "outputs": [
    {
     "name": "stderr",
     "output_type": "stream",
     "text": [
      "D:\\opt\\Anaconda3\\lib\\site-packages\\scipy\\stats\\stats.py:1713: FutureWarning: Using a non-tuple sequence for multidimensional indexing is deprecated; use `arr[tuple(seq)]` instead of `arr[seq]`. In the future this will be interpreted as an array index, `arr[np.array(seq)]`, which will result either in an error or a different result.\n",
      "  return np.add.reduce(sorted[indexer] * weights, axis=axis) / sumval\n"
     ]
    },
    {
     "data": {
      "image/png": "[encoded data removed]",
      "text/plain": [
       "<Figure size 864x288 with 2 Axes>"
      ]
     },
     "metadata": {
      "needs_background": "light"
     },
     "output_type": "display_data"
    }
   ],
   "source": [
    "if SHOW_PLOTS:\n",
    "    plt.figure(figsize=(12,4))\n",
    "    plt.subplot(1,2,1)\n",
    "    sns.barplot(x=\"Cust_Serv_Calls\", y=\"Churn\", data=df_train)\n",
    "    plt.title(\"Churn rate\")\n",
    "    plt.subplot(1,2,2)\n",
    "    sns.countplot(x=\"Cust_Serv_Calls\", data=df_train)\n",
    "    plt.title(\"Number of calls\")\n",
    "    plt.title(\"Distribution of Cust_Serv_Calls\")\n",
    "    plt.show()"
   ]
  },
  {
   "cell_type": "markdown",
   "metadata": {},
   "source": [
    "The above graph shows:\n",
    " * Low churn rate for those with less than 4 calls $\\implies$ Binarisation for happy customer.\n",
    " * Expect increasing trend as __Cust_Serv_Calls__ increases and think that drop for 7 and  8 is due to small sample size.\n",
    " * For 9 (and possibly more) service calls everybody churns $\\implies$ Consider binary variable for unhappy customer\n",
    " "
   ]
  },
  {
   "cell_type": "code",
   "execution_count": 11,
   "metadata": {},
   "outputs": [],
   "source": [
    "df_model[\"Cust_Happy\"] = df_model.Cust_Serv_Calls<4\n",
    "df_model[\"Cust_Unhappy\"] = df_model.Cust_Serv_Calls>=4\n",
    "df_model[\"Cust_Serv_Calls_Mod\"] = df_model.Cust_Serv_Calls.apply ( lambda x: int(x>4)*x )"
   ]
  },
  {
   "cell_type": "markdown",
   "metadata": {},
   "source": [
    "### Usage\n",
    "\n",
    "Based on scatter plots in ETA it appears only day usage seems to be linked to churn. But when summing over all and seeing a relatively constant churn rate decided to go with Total usage."
   ]
  },
  {
   "cell_type": "code",
   "execution_count": 12,
   "metadata": {},
   "outputs": [],
   "source": [
    "df_model[\"Total_Mins\"] = sum (df_model[d+\"_Mins\"] for d in [\"Day\", \"Eve\", \"Night\", \"Intl\"])\n",
    "df_model[\"Total_Calls\"] = sum (df_model[d+\"_Calls\"] for d in [\"Day\", \"Eve\", \"Night\", \"Intl\"])\n",
    "df_model[\"Cust_Low\"] = df_model.Total_Mins<340\n",
    "df_model[\"Cust_High\"] = df_model.Total_Mins<680"
   ]
  },
  {
   "cell_type": "code",
   "execution_count": 13,
   "metadata": {},
   "outputs": [
    {
     "name": "stderr",
     "output_type": "stream",
     "text": [
      "D:\\opt\\Anaconda3\\lib\\site-packages\\scipy\\stats\\stats.py:1713: FutureWarning: Using a non-tuple sequence for multidimensional indexing is deprecated; use `arr[tuple(seq)]` instead of `arr[seq]`. In the future this will be interpreted as an array index, `arr[np.array(seq)]`, which will result either in an error or a different result.\n",
      "  return np.add.reduce(sorted[indexer] * weights, axis=axis) / sumval\n",
      "D:\\opt\\Anaconda3\\lib\\site-packages\\scipy\\stats\\stats.py:1713: FutureWarning: Using a non-tuple sequence for multidimensional indexing is deprecated; use `arr[tuple(seq)]` instead of `arr[seq]`. In the future this will be interpreted as an array index, `arr[np.array(seq)]`, which will result either in an error or a different result.\n",
      "  return np.add.reduce(sorted[indexer] * weights, axis=axis) / sumval\n",
      "D:\\opt\\Anaconda3\\lib\\site-packages\\scipy\\stats\\stats.py:1713: FutureWarning: Using a non-tuple sequence for multidimensional indexing is deprecated; use `arr[tuple(seq)]` instead of `arr[seq]`. In the future this will be interpreted as an array index, `arr[np.array(seq)]`, which will result either in an error or a different result.\n",
      "  return np.add.reduce(sorted[indexer] * weights, axis=axis) / sumval\n",
      "D:\\opt\\Anaconda3\\lib\\site-packages\\scipy\\stats\\stats.py:1713: FutureWarning: Using a non-tuple sequence for multidimensional indexing is deprecated; use `arr[tuple(seq)]` instead of `arr[seq]`. In the future this will be interpreted as an array index, `arr[np.array(seq)]`, which will result either in an error or a different result.\n",
      "  return np.add.reduce(sorted[indexer] * weights, axis=axis) / sumval\n",
      "D:\\opt\\Anaconda3\\lib\\site-packages\\scipy\\stats\\stats.py:1713: FutureWarning: Using a non-tuple sequence for multidimensional indexing is deprecated; use `arr[tuple(seq)]` instead of `arr[seq]`. In the future this will be interpreted as an array index, `arr[np.array(seq)]`, which will result either in an error or a different result.\n",
      "  return np.add.reduce(sorted[indexer] * weights, axis=axis) / sumval\n"
     ]
    },
    {
     "data": {
      "image/png": "[encoded data removed]",
      "text/plain": [
       "<Figure size 1440x288 with 5 Axes>"
      ]
     },
     "metadata": {
      "needs_background": "light"
     },
     "output_type": "display_data"
    }
   ],
   "source": [
    "# redo split because I have added new feature \n",
    "df_train, df_test = train_test_split(df_model, stratify=df_model[target], test_size=.25, random_state=TEST_TRAIN_SEED)\n",
    "df = df_train.copy()\n",
    "\n",
    "if SHOW_PLOTS:\n",
    "    plt.figure(figsize=(20,4))\n",
    "    for k, d in enumerate([\"Day\", \"Eve\", \"Night\", \"Intl\", \"Total\"]):\n",
    "        plt.subplot(1,5,k+1)\n",
    "        df[\"Usage\"] = pd.cut(df[d+\"_Mins\"], bins=12)\n",
    "        ax = sns.barplot(data=df, x=\"Usage\", y=\"Churn\")\n",
    "        ax.set_title(d)\n",
    "        ax.set_ylim(0,1)\n",
    "        for tick in ax.get_xticklabels(): tick.set_rotation(90)\n",
    "        if k: ax.set_ylabel(\"\")\n",
    "    plt.show()"
   ]
  },
  {
   "cell_type": "markdown",
   "metadata": {},
   "source": [
    "### Average length of Calls\n",
    "\n",
    "Not sure if these features will be of benefit, mainly inserting them because they are easy to understand feature, and \"just in case\"."
   ]
  },
  {
   "cell_type": "code",
   "execution_count": 14,
   "metadata": {},
   "outputs": [],
   "source": [
    "for d in [\"Day\", \"Eve\", \"Night\", \"Intl\", \"Total\"]:\n",
    "    df_model[d+\"_Min_Per_Call\"] = df_model[d+\"_Mins\"] / df_model[d+\"_Calls\"]\n",
    "df_model.fillna(value=0,inplace=True)"
   ]
  },
  {
   "cell_type": "markdown",
   "metadata": {},
   "source": [
    "### Length of account"
   ]
  },
  {
   "cell_type": "code",
   "execution_count": 15,
   "metadata": {},
   "outputs": [],
   "source": [
    "df_model[\"Account_Length_Binned\"] = df_model.Account_Length.apply(lambda x: int(x)//60)\n",
    "df_model[\"Shortterm_Account\"] = df_model.Account_Length_Binned==0"
   ]
  },
  {
   "cell_type": "code",
   "execution_count": 16,
   "metadata": {},
   "outputs": [
    {
     "name": "stderr",
     "output_type": "stream",
     "text": [
      "D:\\opt\\Anaconda3\\lib\\site-packages\\scipy\\stats\\stats.py:1713: FutureWarning: Using a non-tuple sequence for multidimensional indexing is deprecated; use `arr[tuple(seq)]` instead of `arr[seq]`. In the future this will be interpreted as an array index, `arr[np.array(seq)]`, which will result either in an error or a different result.\n",
      "  return np.add.reduce(sorted[indexer] * weights, axis=axis) / sumval\n"
     ]
    },
    {
     "data": {
      "image/png": "[encoded data removed]",
      "text/plain": [
       "<Figure size 864x288 with 2 Axes>"
      ]
     },
     "metadata": {
      "needs_background": "light"
     },
     "output_type": "display_data"
    }
   ],
   "source": [
    "df_train, df_test = train_test_split(df_model, stratify=df_model[target], test_size=.25, random_state=TEST_TRAIN_SEED)\n",
    "\n",
    "if SHOW_PLOTS:\n",
    "    plt.figure(figsize=(12,4))\n",
    "    plt.subplot(1,2,1)\n",
    "    sns.barplot(x=\"Account_Length_Binned\", y=\"Churn\", data=df_train)\n",
    "    plt.title(\"Churn rate\")\n",
    "    plt.subplot(1,2,2)\n",
    "    sns.countplot(x=\"Account_Length_Binned\", data=df_train)\n",
    "    plt.title(\"Number of calls\")\n",
    "    plt.title(\"Distribution of Cust_Serv_Calls\")\n",
    "    plt.show()"
   ]
  },
  {
   "cell_type": "markdown",
   "metadata": {},
   "source": [
    "### Usage and plans "
   ]
  },
  {
   "cell_type": "code",
   "execution_count": 17,
   "metadata": {},
   "outputs": [],
   "source": [
    "df_model[\"High_Day_and_No_VMail_Plan\"] = df_model.apply (lambda row: (row.Day_Mins>200 and row.VMail_Plan == 0), axis=1)\n",
    "df_model[\"Low_Night_and_no_Intl_Plan\"] = df_model.apply (lambda row: (row.Night_Mins<=250 and row.Intl_Plan ==1), axis=1)"
   ]
  },
  {
   "cell_type": "markdown",
   "metadata": {},
   "source": [
    "### State\n",
    "\n",
    "Want to group states into high/mid/low churn rates."
   ]
  },
  {
   "cell_type": "code",
   "execution_count": 18,
   "metadata": {},
   "outputs": [],
   "source": [
    "df = df_train.loc[:,[\"State\",\"Churn\"]].groupby(\"State\").mean()\n",
    "df = df.reset_index()"
   ]
  },
  {
   "cell_type": "code",
   "execution_count": 19,
   "metadata": {},
   "outputs": [
    {
     "name": "stdout",
     "output_type": "stream",
     "text": [
      "Group 0 has range 0.051 .. 0.138\n",
      "Group 1 has range 0.208 .. 0.261\n",
      "Group 2 has range 0.154 .. 0.173\n"
     ]
    },
    {
     "data": {
      "text/html": [
       "<div>\n",
       "<style scoped>\n",
       "    .dataframe tbody tr th:only-of-type {\n",
       "        vertical-align: middle;\n",
       "    }\n",
       "\n",
       "    .dataframe tbody tr th {\n",
       "        vertical-align: top;\n",
       "    }\n",
       "\n",
       "    .dataframe thead th {\n",
       "        text-align: right;\n",
       "    }\n",
       "</style>\n",
       "<table border=\"1\" class=\"dataframe\">\n",
       "  <thead>\n",
       "    <tr style=\"text-align: right;\">\n",
       "      <th></th>\n",
       "      <th>State</th>\n",
       "      <th>Churn</th>\n",
       "    </tr>\n",
       "    <tr>\n",
       "      <th>Group</th>\n",
       "      <th></th>\n",
       "      <th></th>\n",
       "    </tr>\n",
       "  </thead>\n",
       "  <tbody>\n",
       "    <tr>\n",
       "      <th>0</th>\n",
       "      <td>30</td>\n",
       "      <td>30</td>\n",
       "    </tr>\n",
       "    <tr>\n",
       "      <th>1</th>\n",
       "      <td>13</td>\n",
       "      <td>13</td>\n",
       "    </tr>\n",
       "    <tr>\n",
       "      <th>2</th>\n",
       "      <td>8</td>\n",
       "      <td>8</td>\n",
       "    </tr>\n",
       "  </tbody>\n",
       "</table>\n",
       "</div>"
      ],
      "text/plain": [
       "       State  Churn\n",
       "Group              \n",
       "0         30     30\n",
       "1         13     13\n",
       "2          8      8"
      ]
     },
     "execution_count": 19,
     "metadata": {},
     "output_type": "execute_result"
    }
   ],
   "source": [
    "groups = 3 \n",
    "from sklearn.cluster import AgglomerativeClustering\n",
    "X_train = df.loc[:,[\"Churn\"]]\n",
    "clustering = AgglomerativeClustering(n_clusters=groups).fit(X_train)\n",
    "df[\"Group\"] = clustering.labels_\n",
    "for g in range(groups):\n",
    "    print (\"Group %s has range %.3f .. %.3f\" % (g, df.loc[df.Group==g].Churn.min(), df.loc[df.Group==g].Churn.max()))\n",
    "df.groupby(\"Group\").count()"
   ]
  },
  {
   "cell_type": "code",
   "execution_count": 20,
   "metadata": {},
   "outputs": [],
   "source": [
    "df_model['State_Group'] = df.Group\n",
    "df_model['State_Low'] = df_model.State_Group==2\n",
    "df_model['State_Mid'] = df_model.State_Group==0\n",
    "df_model['State_High'] = df_model.State_Group==1\n",
    "df_train, df_test = train_test_split(df_model, stratify=df_model[target], test_size=.25, random_state=TEST_TRAIN_SEED)"
   ]
  },
  {
   "cell_type": "markdown",
   "metadata": {},
   "source": [
    "## Model Training"
   ]
  },
  {
   "cell_type": "markdown",
   "metadata": {},
   "source": [
    "### Train-Test Split\n",
    "\n",
    "REPEAT train/test split from above so that both data subsets have the modified feature set."
   ]
  },
  {
   "cell_type": "code",
   "execution_count": 21,
   "metadata": {},
   "outputs": [
    {
     "name": "stdout",
     "output_type": "stream",
     "text": [
      "['Account_Length', 'Intl_Plan', 'VMail_Plan', 'VMail_Message', 'Day_Mins', 'Day_Calls', 'Eve_Mins', 'Eve_Calls', 'Night_Mins', 'Night_Calls', 'Intl_Mins', 'Intl_Calls', 'Cust_Serv_Calls', 'Plans_Both', 'Plans_Intl_Only', 'Plans_VMail_Only', 'Plans_None', 'Cust_Happy', 'Cust_Unhappy', 'Cust_Serv_Calls_Mod', 'Total_Mins', 'Total_Calls', 'Cust_Low', 'Cust_High', 'Day_Min_Per_Call', 'Eve_Min_Per_Call', 'Night_Min_Per_Call', 'Intl_Min_Per_Call', 'Total_Min_Per_Call', 'Account_Length_Binned', 'Shortterm_Account', 'High_Day_and_No_VMail_Plan', 'Low_Night_and_no_Intl_Plan', 'State_Low', 'State_Mid', 'State_High']\n"
     ]
    }
   ],
   "source": [
    "attributes = df_model.columns.tolist()\n",
    "#attributes = attributes_initial\n",
    "\n",
    "for column in [target, \"State\", \"Longitude\", \"Latitude\", \"State_Group\"]:\n",
    "    if column in attributes: attributes.remove(column)\n",
    "\n",
    "df_model.fillna(value=0,inplace=True)\n",
    "df_train, df_test = train_test_split(df_model, stratify=df_model[target], test_size=.25, random_state=42)\n",
    "print(attributes)"
   ]
  },
  {
   "cell_type": "code",
   "execution_count": 22,
   "metadata": {},
   "outputs": [],
   "source": [
    "from sklearn.preprocessing import StandardScaler\n",
    "\n",
    "scaler = StandardScaler()\n",
    "\n",
    "X_train = scaler.fit_transform(df_train.loc[:,attributes].astype(float))\n",
    "y_train = df_train.Churn.values\n",
    "\n",
    "X_test = scaler.transform(df_test.loc[:,attributes].astype(float))\n",
    "y_test = df_test.Churn.values"
   ]
  },
  {
   "cell_type": "markdown",
   "metadata": {},
   "source": [
    "### Training using recall"
   ]
  },
  {
   "cell_type": "code",
   "execution_count": 23,
   "metadata": {},
   "outputs": [
    {
     "name": "stdout",
     "output_type": "stream",
     "text": [
      "0.7733483483483483\n",
      "{'clf__C': 0.0001, 'clf__penalty': 'l2'}\n"
     ]
    }
   ],
   "source": [
    "from sklearn.pipeline import Pipeline\n",
    "from sklearn.metrics import recall_score\n",
    "from sklearn.model_selection import GridSearchCV\n",
    "from sklearn.linear_model import LogisticRegression\n",
    "\n",
    "pipeline = Pipeline([\n",
    "    ('clf', LogisticRegression(solver='liblinear'))\n",
    "])\n",
    "\n",
    "param_grid = [\n",
    "    {'clf__C': np.logspace(-4, 4,20), 'clf__penalty': ['l1', 'l2']}\n",
    "]\n",
    "\n",
    "gs = GridSearchCV(estimator=pipeline, iid=False,\n",
    "    return_train_score=True,\n",
    "    param_grid=param_grid, scoring='recall', cv=10, n_jobs=-1)\n",
    "gs = gs.fit(X_train, y_train)\n",
    "\n",
    "print(gs.best_score_)\n",
    "print(gs.best_params_)"
   ]
  },
  {
   "cell_type": "code",
   "execution_count": 24,
   "metadata": {},
   "outputs": [
    {
     "name": "stdout",
     "output_type": "stream",
     "text": [
      "0.7045045045045046\n",
      "{'clf__C': 10000.0, 'clf__gamma': 0.000774263682681127, 'clf__kernel': 'rbf'}\n"
     ]
    }
   ],
   "source": [
    "SEED=42\n",
    "from sklearn.svm import SVC\n",
    "\n",
    "pipeline = Pipeline([('clf', SVC(random_state=SEED))])\n",
    "\n",
    "param_range = np.logspace(-4,4,10)\n",
    "param_grid = [\n",
    "    {'clf__gamma': param_range,'clf__C': param_range,  'clf__kernel': ['rbf']}]\n",
    "gs = GridSearchCV(estimator=pipeline, iid=False,\n",
    "    return_train_score=True,\n",
    "    param_grid=param_grid, scoring='recall', cv=10, n_jobs=-1)\n",
    "\n",
    "gs = gs.fit(X_train, y_train)\n",
    "print(gs.best_score_)\n",
    "print(gs.best_params_)"
   ]
  },
  {
   "cell_type": "code",
   "execution_count": 25,
   "metadata": {},
   "outputs": [
    {
     "name": "stdout",
     "output_type": "stream",
     "text": [
      "0.6850600600600601\n",
      "{'criterion': 'entropy', 'max_depth': 18.0, 'max_features': 'sqrt', 'min_samples_leaf': 3, 'min_samples_split': 2, 'splitter': 'best'}\n"
     ]
    }
   ],
   "source": [
    "from sklearn.tree import DecisionTreeClassifier\n",
    "\n",
    "clf = DecisionTreeClassifier(criterion='entropy', max_depth=4)\n",
    "\n",
    "param_grid = [{\n",
    "    'criterion' : ['gini', 'entropy'],\n",
    "    'splitter' : ['best', 'random'],\n",
    "    'max_depth' : np.linspace(1, 20, 20),\n",
    "    'max_features' : ['auto', 'sqrt', 'log2'],\n",
    "    'min_samples_split' : range(2,15),\n",
    "    'min_samples_leaf' : range(2,5)\n",
    "}]\n",
    "\n",
    "gs = GridSearchCV(estimator=clf, iid=False, return_train_score=True, param_grid=param_grid, scoring='recall', cv=10,n_jobs=-1)\n",
    "gs = gs.fit(X_train, y_train)\n",
    "print(gs.best_score_)\n",
    "print(gs.best_params_)"
   ]
  },
  {
   "cell_type": "markdown",
   "metadata": {
    "toc-hr-collapsed": false
   },
   "source": [
    "### Training using problem specific metric"
   ]
  },
  {
   "cell_type": "markdown",
   "metadata": {
    "toc-hr-collapsed": false
   },
   "source": [
    "### Scorer Function"
   ]
  },
  {
   "cell_type": "code",
   "execution_count": 26,
   "metadata": {},
   "outputs": [],
   "source": [
    "from sklearn.metrics import confusion_matrix, make_scorer\n",
    "\n",
    "def customScore(y_true, y_pred):\n",
    "    cm = confusion_matrix(y_true, y_pred)\n",
    "    # people who churn and take the offer lose 1025\n",
    "    # peope who would churn but take the offer and stay gain 975\n",
    "    # people who leave and don't take the offer lose 1000\n",
    "    # people who won't churn but take the offer lose 25\n",
    "    # people who leave but I didn't notice till there gone lose 1000\n",
    "    return ((((cm[1,1] * 0.9) * 0.3) * -1025) + (((cm[1,1] * 0.9) * 0.7) * 975) + ((cm[1,1] * 0.1) * -1000) + ((cm[0,1] * 0.6) * -25) + (cm[1, 0] * -1000) + cm[0,0] * 1000) / cm.sum()\n",
    "\n",
    "scorer = make_scorer(customScore, greater_is_better=True)\n"
   ]
  },
  {
   "cell_type": "markdown",
   "metadata": {},
   "source": [
    "### SVC With RandomSearch"
   ]
  },
  {
   "cell_type": "code",
   "execution_count": 28,
   "metadata": {},
   "outputs": [
    {
     "name": "stdout",
     "output_type": "stream",
     "text": [
      "816.3595472887566\n",
      "{'kernel': 'rbf', 'gamma': 0.000774263682681127, 'C': 1291.5496650148827}\n"
     ]
    }
   ],
   "source": [
    "from sklearn.svm import SVC\n",
    "from sklearn.model_selection import RandomizedSearchCV\n",
    "\n",
    "clf = SVC(random_state=42)\n",
    "\n",
    "param_grid = { 'gamma' : np.logspace(-4,4,10), 'C' : np.logspace(-4,4,10), 'kernel' : ['rbf']}\n",
    "\n",
    "gs = RandomizedSearchCV(estimator=clf, iid=False, return_train_score=True, param_distributions=param_grid, n_iter=50, random_state=SEED, scoring=scorer, cv=10, n_jobs=-1)\n",
    "gs = gs.fit(X_train, y_train)\n",
    "print(gs.best_score_)\n",
    "print(gs.best_params_)"
   ]
  },
  {
   "cell_type": "markdown",
   "metadata": {},
   "source": [
    "### LogisticRegression with random search and custom scorer"
   ]
  },
  {
   "cell_type": "code",
   "execution_count": 31,
   "metadata": {},
   "outputs": [
    {
     "name": "stdout",
     "output_type": "stream",
     "text": [
      "743.354020064321\n",
      "{'penalty': 'l2', 'C': 0.00026366508987303583}\n"
     ]
    }
   ],
   "source": [
    "'''\n",
    "pipeline = Pipeline([('clf', SVC(random_state=SEED))])\n",
    "\n",
    "param_range = np.logspace(-4,4,10)\n",
    "param_grid = [{'clf__gamma': param_range,'clf__C': param_range,  'clf__kernel': ['rbf']}]\n",
    "gs = RandomizedSearchCV(estimator=pipeline, iid=False, return_train_score=True, param_distributions=param_grid, scoring=scorer, cv=10, n_jobs=-1)\n",
    "\n",
    "gs = gs.fit(X_train, y_train)\n",
    "print(gs.best_score_)\n",
    "print(gs.best_params_)\n",
    "'''\n",
    "\n",
    "clf = LogisticRegression(solver='liblinear')\n",
    "\n",
    "param_grid = {'C' : np.logspace(-4, 4, 20),\n",
    "             'penalty' : ['l1', 'l2']}\n",
    "\n",
    "gs = RandomizedSearchCV(estimator=clf, iid=False, \n",
    "                        return_train_score=True, \n",
    "                        param_distributions=param_grid,\n",
    "                        n_iter=40, random_state=42,\n",
    "                        scoring=scorer, cv=10, n_jobs=-1)\n",
    "gs = gs.fit(X_train, y_train)\n",
    "\n",
    "print(gs.best_score_)\n",
    "print(gs.best_params_)"
   ]
  },
  {
   "cell_type": "markdown",
   "metadata": {},
   "source": [
    "Decision Tree with custom scorer and random search"
   ]
  },
  {
   "cell_type": "code",
   "execution_count": 35,
   "metadata": {},
   "outputs": [
    {
     "name": "stdout",
     "output_type": "stream",
     "text": [
      "798.3806342821485\n",
      "{'splitter': 'best', 'min_samples_split': 12, 'min_samples_leaf': 3, 'max_features': 'auto', 'max_depth': 16.0, 'criterion': 'gini'}\n"
     ]
    }
   ],
   "source": [
    "clf = DecisionTreeClassifier(criterion='entropy', max_depth=4)\n",
    "\n",
    "param_grid = {'criterion' : ['gini', 'entropy'],\n",
    "    'splitter' : ['best', 'random'],\n",
    "    'max_depth' : np.linspace(1, 20, 20),\n",
    "    'max_features' : ['auto', 'sqrt', 'log2'],\n",
    "    'min_samples_split' : range(2,15),\n",
    "    'min_samples_leaf' : range(2,5)}\n",
    "\n",
    "gs = RandomizedSearchCV(estimator=clf, iid=False, \n",
    "                        return_train_score=True, \n",
    "                        param_distributions=param_grid,\n",
    "                        n_iter=50, random_state=42,\n",
    "                        scoring=scorer, cv=10, n_jobs=-1)\n",
    "gs = gs.fit(X_train, y_train)\n",
    "print(gs.best_score_)\n",
    "print(gs.best_params_)"
   ]
  },
  {
   "cell_type": "code",
   "execution_count": null,
   "metadata": {},
   "outputs": [],
   "source": []
  }
 ],
 "metadata": {
  "kernelspec": {
   "display_name": "Python 3",
   "language": "python",
   "name": "python3"
  },
  "language_info": {
   "codemirror_mode": {
    "name": "ipython",
    "version": 3
   },
   "file_extension": ".py",
   "mimetype": "text/x-python",
   "name": "python",
   "nbconvert_exporter": "python",
   "pygments_lexer": "ipython3",
   "version": "3.7.1"
  }
 },
 "nbformat": 4,
 "nbformat_minor": 2
}
